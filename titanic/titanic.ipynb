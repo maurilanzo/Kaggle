{
  "nbformat": 4,
  "nbformat_minor": 0,
  "metadata": {
    "colab": {
      "provenance": [],
      "authorship_tag": "ABX9TyOAyyhdPBE8hnM3JhX9WSI+"
    },
    "kernelspec": {
      "name": "python3",
      "display_name": "Python 3"
    },
    "language_info": {
      "name": "python"
    }
  },
  "cells": [
    {
      "cell_type": "code",
      "source": [
        "import pandas as pd\n",
        "import numpy as np\n",
        "import matplotlib.pyplot as plt\n",
        "import itertools"
      ],
      "metadata": {
        "id": "Zv2ZXWn4OvDt"
      },
      "execution_count": 2,
      "outputs": []
    },
    {
      "cell_type": "code",
      "source": [
        "class KNearestNeighbors:\n",
        "    def __init__(self, k, distance_metric=\"euclidean\",weights = \"uniform\"):\n",
        "        self.k = k\n",
        "        self.distance_metric = distance_metric\n",
        "        self . weights = weights\n",
        "\n",
        "    def change_parameters(self,k,distance_metric,weights):\n",
        "        self.k = k\n",
        "        self.distance_metric = distance_metric\n",
        "        self . weights = weights\n",
        "\n",
        "    def _euclidean_distance(self, X_test):\n",
        "        X_diff = self.X_train_reshaped - X_test.to_numpy()   #120,30,4\n",
        "        dist_matrix = np.sum(X_diff**2,axis=2)**0.5     #120,30\n",
        "        return dist_matrix.T\n",
        "\n",
        "    def _cosine_distance(self, X_test):\n",
        "        X_test_norm = ((X_test**2).sum(axis=1)**0.5).values.reshape(1, -1)\n",
        "        dot = self.X_train @ X_test.T\n",
        "        dist_matrix = 1 - np.abs(dot / (self.X_train_norm * X_test_norm))\n",
        "        return dist_matrix.T\n",
        "\n",
        "    def _manhattan_distance(self,X_test):\n",
        "        X_diff = self.X_train_reshaped - X_test.to_numpy()\n",
        "        dist_matrix = np.sum(np.abs(X_diff),axis=2)\n",
        "        return dist_matrix.T\n",
        "\n",
        "    def fit(self, X, y):\n",
        "        \"\"\"\n",
        "        Store the 'prior knowledge' of your model that will be used to predict new labels.\n",
        "        :param X: input data points, ndarray, shape = (R, C).\n",
        "        :param y: input labels, ndarray, shape = (R,).\n",
        "        \"\"\"\n",
        "        self.X_train = X\n",
        "        self.Y_train = y\n",
        "\n",
        "        self.X_train_reshaped = np.expand_dims(X_train,1)  #120,1,4\n",
        "        self.X_train_norm = ((X_train**2).sum(axis=1)**0.5).values.reshape(-1, 1)\n",
        "\n",
        "    def _majority_voting(self, k_best):\n",
        "\n",
        "        labels = k_best.map(lambda x: Y_train.iloc[x])   #like java lambda function\n",
        "        predictions = labels.mode(axis=1)[0]\n",
        "        return predictions\n",
        "\n",
        "\n",
        "    def weighted_vote_row(self,labels_row, weights_row):    #for each row gives the prediction\n",
        "      label_weights = {}\n",
        "      for lbl, w in zip(labels_row, weights_row):\n",
        "          label_weights[lbl] = label_weights.get(lbl, 0) + w      #.get(): if exist return value of lbl, otherwise 0\n",
        "      return max(label_weights, key=label_weights.get)          #reurn the label with max value\n",
        "\n",
        "    def _weighted_voting (self,k_best,dist_matrix):\n",
        "        distances_sorted = np.sort(dist_matrix, axis=1)[:, :self.k]\n",
        "        weight_matrix = 1 / (distances_sorted + 1e-8)\n",
        "        labels = k_best.map(lambda x: Y_train.iloc[x])\n",
        "        predictions = []\n",
        "        for index, row in labels.iterrows():\n",
        "            predictions.append(self.weighted_vote_row(row, weight_matrix[index]))\n",
        "        return pd.Series(predictions)\n",
        "\n",
        "    def predict(self, X):\n",
        "        \"\"\"\n",
        "        Run the KNN classification on X.\n",
        "        :param X: input data points, ndarray, shape = (N, C).\n",
        "        :return: labels, ndarray, shape = (N,).\n",
        "        \"\"\"\n",
        "\n",
        "        if self.distance_metric== \"euclidean\":\n",
        "          dist_matrix = self._euclidean_distance(X)\n",
        "\n",
        "        elif self.distance_metric== \"cosine\":\n",
        "          dist_matrix = self._cosine_distance(X)\n",
        "        elif self.distance_metric == \"manhattan\":\n",
        "          dist_matrix = self._manhattan_distance(X)\n",
        "\n",
        "\n",
        "\n",
        "        k_best = np.argsort(dist_matrix)[:,:self.k]   #matrix 30 x k where k are the closest indexes\n",
        "        if self.weights == \"uniform\":\n",
        "\n",
        "\n",
        "          predictions = self._majority_voting(pd.DataFrame(k_best))\n",
        "\n",
        "        elif self.weights == \"distance\":\n",
        "          predictions = self._weighted_voting(pd.DataFrame(k_best),dist_matrix)\n",
        "\n",
        "\n",
        "        return predictions"
      ],
      "metadata": {
        "id": "Srg9taFPWBZS"
      },
      "execution_count": 3,
      "outputs": []
    },
    {
      "cell_type": "code",
      "source": [
        "def calculate_accuracy(Y_test,Y_predicted):\n",
        "  eq = Y_test.values.reshape(-1) == Y_predicted.values.reshape(-1)\n",
        "  return np.count_nonzero(eq)/len(Y_test)*100"
      ],
      "metadata": {
        "id": "fDDVJ53j0W-v"
      },
      "execution_count": 4,
      "outputs": []
    },
    {
      "cell_type": "code",
      "source": [
        "\n",
        "\n",
        "\n",
        "def plot_different_k(k_start, k_end, distance=\"cosine\", weights=\"distance\"):\n",
        "    KKN = KNearestNeighbors(0, distance, weights)\n",
        "    KKN.fit(X_train, Y_train)\n",
        "\n",
        "    accuracies = []\n",
        "    k_values = list(range(k_start, k_end + 1))\n",
        "\n",
        "    for k in k_values:\n",
        "        KKN.change_parameters(k, distance, weights)\n",
        "        Y_predicted = KKN.predict(X_test)\n",
        "        acc = calculate_accuracy(Y_test, Y_predicted)\n",
        "        accuracies.append(acc)\n",
        "\n",
        "    # Plot accuracy trend\n",
        "    plt.figure(figsize=(8, 5))\n",
        "    plt.plot(k_values, accuracies, marker='o', linestyle='-', color='b')\n",
        "    plt.title(f\"Accuracy vs. K ({distance} distance, weights={weights})\")\n",
        "    plt.xlabel(\"Number of Neighbors (k)\")\n",
        "    plt.ylabel(\"Accuracy (%)\")\n",
        "    plt.grid(True, linestyle='--', alpha=0.6)\n",
        "    plt.show()"
      ],
      "metadata": {
        "id": "Pu0P60JlrWyZ"
      },
      "execution_count": 5,
      "outputs": []
    },
    {
      "cell_type": "markdown",
      "source": [
        "Titanic dataset\n",
        "\n",
        "> Add blockquote\n",
        "\n",
        "\n"
      ],
      "metadata": {
        "id": "_tUDbmck0Ldb"
      }
    },
    {
      "cell_type": "code",
      "source": [
        "titanic_test = pd.read_csv(\"test.csv\")\n",
        "titanic_train = pd.read_csv(\"train.csv\")"
      ],
      "metadata": {
        "id": "O-5xu5P5NsyT",
        "outputId": "4724e7aa-0cc3-4945-958a-8442619321df",
        "colab": {
          "base_uri": "https://localhost:8080/"
        }
      },
      "execution_count": 12,
      "outputs": [
        {
          "output_type": "stream",
          "name": "stdout",
          "text": [
            "mv: cannot stat 'kaggle.json': No such file or directory\n",
            "chmod: cannot access '/root/.kaggle/kaggle.json': No such file or directory\n",
            "Traceback (most recent call last):\n",
            "  File \"/usr/local/bin/kaggle\", line 4, in <module>\n",
            "    from kaggle.cli import main\n",
            "  File \"/usr/local/lib/python3.12/dist-packages/kaggle/__init__.py\", line 6, in <module>\n",
            "    api.authenticate()\n",
            "  File \"/usr/local/lib/python3.12/dist-packages/kaggle/api/kaggle_api_extended.py\", line 434, in authenticate\n",
            "    raise IOError('Could not find {}. Make sure it\\'s located in'\n",
            "OSError: Could not find kaggle.json. Make sure it's located in /root/.kaggle. Or use the environment method. See setup instructions at https://github.com/Kaggle/kaggle-api/\n"
          ]
        }
      ]
    },
    {
      "cell_type": "code",
      "source": [
        "\n",
        "\n",
        "titanic_train = pd.DataFrame(titanic_train)\n",
        "titanic_test = pd.DataFrame(titanic_test)\n",
        "\n",
        "\n",
        "\n",
        "\n",
        "X_test = titanic_test.loc[:, [\"Pclass\",\"Sex\",\"Age\",\"SibSp\",\"Parch\",\"Fare\",\"Embarked\"]]\n",
        "ids = titanic_test.loc[:, [\"PassengerId\"]]\n",
        "\n",
        "\n",
        "X_train = titanic_train.loc[:, [\"Pclass\",\"Sex\",\"Age\",\"SibSp\",\"Parch\",\"Fare\",\"Embarked\"]]\n",
        "Y_train = titanic_train.iloc[:, 1]\n",
        "\n",
        "X_test[\"Age\"].fillna(X_test[\"Age\"].median(), inplace=True)\n",
        "X_test[\"Embarked\"].fillna(X_test[\"Embarked\"].mode()[0], inplace=True)\n",
        "X_train[\"Age\"].fillna(X_train[\"Age\"].median(), inplace=True)\n",
        "X_train[\"Embarked\"].fillna(X_train[\"Embarked\"].mode()[0], inplace=True)\n",
        "\n",
        "\n",
        "\n",
        "X_test = pd.get_dummies(X_test, columns=[\"Sex\", \"Embarked\"], drop_first=True) #Convert string columns in values\n",
        "X_train = pd.get_dummies(X_train, columns=[\"Sex\", \"Embarked\"], drop_first=True)\n",
        "\n",
        "\n"
      ],
      "metadata": {
        "colab": {
          "base_uri": "https://localhost:8080/"
        },
        "collapsed": true,
        "id": "SXbFPdt20OsM",
        "outputId": "e2ceeec0-f1c1-422a-ce0d-8ec1daa73f00"
      },
      "execution_count": null,
      "outputs": [
        {
          "output_type": "stream",
          "name": "stderr",
          "text": [
            "/tmp/ipython-input-1998252024.py:14: FutureWarning: A value is trying to be set on a copy of a DataFrame or Series through chained assignment using an inplace method.\n",
            "The behavior will change in pandas 3.0. This inplace method will never work because the intermediate object on which we are setting values always behaves as a copy.\n",
            "\n",
            "For example, when doing 'df[col].method(value, inplace=True)', try using 'df.method({col: value}, inplace=True)' or df[col] = df[col].method(value) instead, to perform the operation inplace on the original object.\n",
            "\n",
            "\n",
            "  X_test[\"Age\"].fillna(X_test[\"Age\"].median(), inplace=True)\n",
            "/tmp/ipython-input-1998252024.py:15: FutureWarning: A value is trying to be set on a copy of a DataFrame or Series through chained assignment using an inplace method.\n",
            "The behavior will change in pandas 3.0. This inplace method will never work because the intermediate object on which we are setting values always behaves as a copy.\n",
            "\n",
            "For example, when doing 'df[col].method(value, inplace=True)', try using 'df.method({col: value}, inplace=True)' or df[col] = df[col].method(value) instead, to perform the operation inplace on the original object.\n",
            "\n",
            "\n",
            "  X_test[\"Embarked\"].fillna(X_test[\"Embarked\"].mode()[0], inplace=True)\n",
            "/tmp/ipython-input-1998252024.py:16: FutureWarning: A value is trying to be set on a copy of a DataFrame or Series through chained assignment using an inplace method.\n",
            "The behavior will change in pandas 3.0. This inplace method will never work because the intermediate object on which we are setting values always behaves as a copy.\n",
            "\n",
            "For example, when doing 'df[col].method(value, inplace=True)', try using 'df.method({col: value}, inplace=True)' or df[col] = df[col].method(value) instead, to perform the operation inplace on the original object.\n",
            "\n",
            "\n",
            "  X_train[\"Age\"].fillna(X_train[\"Age\"].median(), inplace=True)\n",
            "/tmp/ipython-input-1998252024.py:17: FutureWarning: A value is trying to be set on a copy of a DataFrame or Series through chained assignment using an inplace method.\n",
            "The behavior will change in pandas 3.0. This inplace method will never work because the intermediate object on which we are setting values always behaves as a copy.\n",
            "\n",
            "For example, when doing 'df[col].method(value, inplace=True)', try using 'df.method({col: value}, inplace=True)' or df[col] = df[col].method(value) instead, to perform the operation inplace on the original object.\n",
            "\n",
            "\n",
            "  X_train[\"Embarked\"].fillna(X_train[\"Embarked\"].mode()[0], inplace=True)\n"
          ]
        }
      ]
    },
    {
      "cell_type": "code",
      "source": [
        "from sklearn.preprocessing import StandardScaler\n",
        "scaler = StandardScaler()\n",
        "X_train_scaled = scaler.fit_transform(X_train)\n",
        "X_test_scaled = scaler.transform(X_test)\n",
        "\n",
        "X_train_scaled = pd.DataFrame(X_train_scaled, columns=X_train.columns, index=X_train.index)\n",
        "X_test_scaled = pd.DataFrame(X_test_scaled, columns=X_test.columns, index=X_test.index)\n",
        "X_test_scaled[\"Fare\"].fillna(X_test_scaled[\"Fare\"].median(), inplace=True)\n",
        "\n"
      ],
      "metadata": {
        "colab": {
          "base_uri": "https://localhost:8080/"
        },
        "id": "mCwIVuebVFzA",
        "outputId": "3cb119b7-7e7c-4dc6-e719-7d1a6f2ef9ad"
      },
      "execution_count": null,
      "outputs": [
        {
          "output_type": "stream",
          "name": "stderr",
          "text": [
            "/tmp/ipython-input-1196243924.py:8: FutureWarning: A value is trying to be set on a copy of a DataFrame or Series through chained assignment using an inplace method.\n",
            "The behavior will change in pandas 3.0. This inplace method will never work because the intermediate object on which we are setting values always behaves as a copy.\n",
            "\n",
            "For example, when doing 'df[col].method(value, inplace=True)', try using 'df.method({col: value}, inplace=True)' or df[col] = df[col].method(value) instead, to perform the operation inplace on the original object.\n",
            "\n",
            "\n",
            "  X_test_scaled[\"Fare\"].fillna(X_test_scaled[\"Fare\"].median(), inplace=True)\n"
          ]
        }
      ]
    },
    {
      "cell_type": "code",
      "source": [
        "KKN = KNearestNeighbors(10, \"cosine\",\"distance\")\n",
        "KKN.fit(X_train, Y_train)\n",
        "Y_predicted =KKN.predict(X_test)\n",
        "#print(f\"The accuracy is: {calculate_accuracy(Y_test,Y_predicted)}%\")\n",
        "\n"
      ],
      "metadata": {
        "id": "kDsSMQzHN21B"
      },
      "execution_count": null,
      "outputs": []
    },
    {
      "cell_type": "markdown",
      "source": [
        "Compare with sklearn one"
      ],
      "metadata": {
        "id": "djQjaU0E0wpA"
      }
    },
    {
      "cell_type": "code",
      "source": [
        "from sklearn.neighbors import KNeighborsClassifier\n",
        "from sklearn.metrics import accuracy_score\n",
        "\n",
        "sk_knn = KNeighborsClassifier(n_neighbors=3)\n",
        "sk_knn.fit(X_train_scaled, Y_train)\n",
        "print(X_test_scaled.isna().sum())\n",
        "sk_preds = sk_knn.predict(X_test_scaled)\n",
        "\n",
        "print(\"sklearn KNN accuracy:\", accuracy_score(Y_test, sk_preds))\n",
        "print(\"custom KNN accuracy:\", accuracy_score(Y_test, Y_predicted))"
      ],
      "metadata": {
        "colab": {
          "base_uri": "https://localhost:8080/"
        },
        "id": "8Z9JljZRXpUC",
        "outputId": "797c7b36-dad6-4f23-fb9b-9e5b0d373c5e"
      },
      "execution_count": null,
      "outputs": [
        {
          "output_type": "stream",
          "name": "stdout",
          "text": [
            "Pclass        0\n",
            "Age           0\n",
            "SibSp         0\n",
            "Parch         0\n",
            "Fare          0\n",
            "Sex_male      0\n",
            "Embarked_Q    0\n",
            "Embarked_S    0\n",
            "dtype: int64\n",
            "sklearn KNN accuracy: 0.7921348314606742\n",
            "custom KNN accuracy: 0.6910112359550562\n"
          ]
        }
      ]
    },
    {
      "cell_type": "code",
      "source": [],
      "metadata": {
        "colab": {
          "base_uri": "https://localhost:8080/",
          "height": 139
        },
        "id": "u5KwLHvrwjMk",
        "outputId": "43941e7c-357c-4349-b310-1496e27dd055"
      },
      "execution_count": null,
      "outputs": [
        {
          "output_type": "error",
          "ename": "NameError",
          "evalue": "name 'Y_predicted' is not defined",
          "traceback": [
            "\u001b[0;31m---------------------------------------------------------------------------\u001b[0m",
            "\u001b[0;31mNameError\u001b[0m                                 Traceback (most recent call last)",
            "\u001b[0;32m/tmp/ipython-input-3323502340.py\u001b[0m in \u001b[0;36m<cell line: 0>\u001b[0;34m()\u001b[0m\n\u001b[0;32m----> 1\u001b[0;31m \u001b[0mprint\u001b[0m\u001b[0;34m(\u001b[0m\u001b[0mY_predicted\u001b[0m\u001b[0;34m)\u001b[0m\u001b[0;34m\u001b[0m\u001b[0;34m\u001b[0m\u001b[0m\n\u001b[0m",
            "\u001b[0;31mNameError\u001b[0m: name 'Y_predicted' is not defined"
          ]
        }
      ]
    },
    {
      "cell_type": "code",
      "source": [
        "plot_different_k(3,20, distance=\"cosine\", weights=\"distance\")"
      ],
      "metadata": {
        "colab": {
          "base_uri": "https://localhost:8080/",
          "height": 487
        },
        "id": "3ucIzGFU07fP",
        "outputId": "1cc5d683-40d5-4057-b78b-be7536b42135"
      },
      "execution_count": null,
      "outputs": [
        {
          "output_type": "display_data",
          "data": {
            "text/plain": [
              "<Figure size 800x500 with 1 Axes>"
            ],
            "image/png": "[encoded data removed]"
          },
          "metadata": {}
        }
      ]
    },
    {
      "cell_type": "code",
      "source": [
        "\n",
        "\n",
        "\n",
        "predictions = Y_predicted.copy()\n",
        "predictions = pd.DataFrame(predictions)\n",
        "\n",
        "predictions.insert(0, \"PassengerId\", ids)\n",
        "predictions.columns = [\"PassengerId\", \"Survived\"]\n",
        "predictions.to_csv(\"submission.csv\", index=False)"
      ],
      "metadata": {
        "id": "fLHllLg21p0K"
      },
      "execution_count": null,
      "outputs": []
    }
  ]
}